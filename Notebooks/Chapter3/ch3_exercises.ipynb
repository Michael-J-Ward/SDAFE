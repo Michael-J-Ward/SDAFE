{
 "cells": [
  {
   "cell_type": "code",
   "execution_count": 1,
   "metadata": {
    "collapsed": true
   },
   "outputs": [],
   "source": [
    "%matplotlib inline\n",
    "\n",
    "import pandas as pd\n",
    "import numpy as np"
   ]
  },
  {
   "cell_type": "code",
   "execution_count": 2,
   "metadata": {
    "collapsed": false
   },
   "outputs": [],
   "source": [
    "# problem number 12\n",
    "annual_rates = {k:v for k,v in enumerate([0, 0.031, 0.035, 0.04, 0.042, 0.043])}\n",
    "spot_rates = { k: v/2 for k,v in annual_rates.items()} # semi-annual\n",
    "# every spot rate goes up by 0.05/2 except the 0-maturity, which remains 0\n",
    "raised_spot_rates = {k: v+0.0025*(k>0) for k,v in spot_rates.items()}\n",
    "\n",
    "def getRates(scenario):\n",
    "    return raised_spot_rates if scenario=='raised' else spot_rates\n",
    "\n",
    "def P(maturity, rates):\n",
    "    return 1000/(1+rates[maturity])**(maturity*2)\n",
    "\n",
    "def computePrices(initial_maturity, time_elapsed, rates):\n",
    "    return P(initial_maturity-time_elapsed, rates)\n",
    "\n",
    "# nice dictionary comprehension to get us the desired prices\n",
    "bondPrices = {(initial_maturity, time_elapsed, scenario): computePrices(initial_maturity, time_elapsed, getRates(scenario))\n",
    "             for initial_maturity in [1,3,5]\n",
    "             for time_elapsed in [0,1]\n",
    "             for scenario in ['no change', 'raised']\n",
    "             if not ((time_elapsed==0) & (scenario=='raised'))}"
   ]
  },
  {
   "cell_type": "code",
   "execution_count": 3,
   "metadata": {
    "collapsed": false
   },
   "outputs": [
    {
     "name": "stdout",
     "output_type": "stream",
     "text": [
      "Initially, the price of the\n",
      "1 year zero-coupon bond is $969.71\n",
      "3 year zero-coupon bond is $887.97\n",
      "5 year zero-coupon bond is $808.38\n"
     ]
    }
   ],
   "source": [
    "# Part a\n",
    "print(\"Initially, the price of the\")\n",
    "for initial_maturity in [1,3,5]:\n",
    "    print(\"{} year zero-coupon bond is ${:.2f}\".format(initial_maturity, bondPrices[(initial_maturity,0,'no change')]))"
   ]
  },
  {
   "cell_type": "code",
   "execution_count": 4,
   "metadata": {
    "collapsed": false
   },
   "outputs": [
    {
     "name": "stdout",
     "output_type": "stream",
     "text": [
      "After one year, if rates do not change, the price of the\n",
      "1 year zero-coupon bond is $1000.00\n",
      "3 year zero-coupon bond is $932.96\n",
      "5 year zero-coupon bond is $846.83\n"
     ]
    }
   ],
   "source": [
    "# Part b\n",
    "print(\"After one year, if rates do not change, the price of the\")\n",
    "for initial_maturity in [1,3,5]:\n",
    "    print(\"{} year zero-coupon bond is ${:.2f}\".format(initial_maturity, bondPrices[(initial_maturity,1,'no change')]))"
   ]
  },
  {
   "cell_type": "code",
   "execution_count": 5,
   "metadata": {
    "collapsed": false
   },
   "outputs": [
    {
     "name": "stdout",
     "output_type": "stream",
     "text": [
      "After one year, if rates rise, the price of the\n",
      "1 year zero-coupon bond is $1000.00\n",
      "3 year zero-coupon bond is $923.85\n",
      "5 year zero-coupon bond is $830.42\n"
     ]
    }
   ],
   "source": [
    "# Part c\n",
    "print(\"After one year, if rates rise, the price of the\")\n",
    "for initial_maturity in [1,3,5]:\n",
    "    print(\"{} year zero-coupon bond is ${:.2f}\".format(initial_maturity, bondPrices[(initial_maturity,1,'raised')]))"
   ]
  },
  {
   "cell_type": "code",
   "execution_count": 6,
   "metadata": {
    "collapsed": false
   },
   "outputs": [],
   "source": [
    "def calcReturns(inital_maturity, scenario):\n",
    "    # calculates net annual return\n",
    "    return bondPrices[(initial_maturity,1,scenario)]/bondPrices[(initial_maturity,0,'no change')] - 1"
   ]
  },
  {
   "cell_type": "code",
   "execution_count": 7,
   "metadata": {
    "collapsed": false
   },
   "outputs": [
    {
     "name": "stdout",
     "output_type": "stream",
     "text": [
      "If rates go up, the return achieved from selling at year 1 for\n",
      "1 year zero-coupon bond is 0.0312\n",
      "3 year zero-coupon bond is 0.0404\n",
      "5 year zero-coupon bond is 0.0273\n"
     ]
    }
   ],
   "source": [
    "# Part d\n",
    "print(\"If rates go up, the return achieved from selling at year 1 for\")\n",
    "for initial_maturity in [1,3,5]:\n",
    "    print(\"{} year zero-coupon bond is {:.4f}\".format(initial_maturity, calcReturns(initial_maturity, 'raised')))"
   ]
  },
  {
   "cell_type": "code",
   "execution_count": 8,
   "metadata": {
    "collapsed": false
   },
   "outputs": [
    {
     "name": "stdout",
     "output_type": "stream",
     "text": [
      "If rates remain unchanged, the return achieved from selling at year 1 for\n",
      "1 year zero-coupon bond is 0.0312\n",
      "3 year zero-coupon bond is 0.0507\n",
      "5 year zero-coupon bond is 0.0476\n"
     ]
    }
   ],
   "source": [
    "# Part e\n",
    "print(\"If rates remain unchanged, the return achieved from selling at year 1 for\")\n",
    "for initial_maturity in [1,3,5]:\n",
    "    print(\"{} year zero-coupon bond is {:.4f}\".format(initial_maturity, calcReturns(initial_maturity, 'no change')))"
   ]
  },
  {
   "cell_type": "markdown",
   "metadata": {
    "collapsed": false
   },
   "source": [
    "<p>As you can see, the 3 year bond provides the best return for either scenario. I thought this was a really interesting problem.\n",
    "<br>\n",
    "<br>\n",
    "I encourage you to think about **why** the answer is what is and more importantly *what does the return of buying an n-year zero-coupon bond and selling a year later represent*</p>"
   ]
  },
  {
   "cell_type": "markdown",
   "metadata": {},
   "source": [
    "<h5> Using the notation from Chapter 3 </h5>\n",
    "$$P(n) = \\text{prices of zero-coupon bond maturing in n-years}$$\n",
    "$$ r_n = \\text{forward rate paid in the n-th year}$$\n",
    "\n",
    "So then\n",
    "$$P(n) = \\frac{PAR}{(1+ r_1)(1+r_2)...(1+r_n)}$$\n",
    "\n",
    "If rates remain unchanged over the course of a year, then the n-year bond purchased at $t=0$ becomes an (n-1)-year bond a year later, and the net return is\n",
    "$$\\text{Net Return} = \\frac{P(n-1)}{P(n)} - 1 = (1+r_n) - 1 = r_n$$\n",
    "\n",
    "So, the net return of holding an n-year bond for one year is the forward rate $r_n$! To show this, we'll use the annual spot rates given in the problem"
   ]
  },
  {
   "cell_type": "code",
   "execution_count": 9,
   "metadata": {
    "collapsed": false
   },
   "outputs": [],
   "source": [
    "def P_annual(n):\n",
    "    return 1000/(1+annual_rates[n])**n\n",
    "annual_forward_rates = {n:P_annual(n-1)/P_annual(n) - 1 for n in range(1,6)}"
   ]
  },
  {
   "cell_type": "code",
   "execution_count": 10,
   "metadata": {
    "collapsed": false
   },
   "outputs": [
    {
     "name": "stdout",
     "output_type": "stream",
     "text": [
      "The forward rate for year 1 is 0.0310\n",
      "The forward rate for year 2 is 0.0390\n",
      "The forward rate for year 3 is 0.0501\n",
      "The forward rate for year 4 is 0.0480\n",
      "The forward rate for year 5 is 0.0470\n"
     ]
    }
   ],
   "source": [
    "for k,v in annual_forward_rates.items():\n",
    "    print(\"The forward rate for year {} is {:.4f}\".format(k,v))"
   ]
  },
  {
   "cell_type": "code",
   "execution_count": null,
   "metadata": {
    "collapsed": true
   },
   "outputs": [],
   "source": []
  }
 ],
 "metadata": {
  "kernelspec": {
   "display_name": "Python 3",
   "language": "python",
   "name": "python3"
  },
  "language_info": {
   "codemirror_mode": {
    "name": "ipython",
    "version": 3
   },
   "file_extension": ".py",
   "mimetype": "text/x-python",
   "name": "python",
   "nbconvert_exporter": "python",
   "pygments_lexer": "ipython3",
   "version": "3.5.1"
  }
 },
 "nbformat": 4,
 "nbformat_minor": 0
}
